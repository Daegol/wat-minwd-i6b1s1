{
 "cells": [
  {
   "cell_type": "code",
   "execution_count": 1,
   "metadata": {},
   "outputs": [
    {
     "name": "stdout",
     "output_type": "stream",
     "text": [
      "Status: Optimal\n",
      "w1  =  100.0\n",
      "w2  =  450.0\n",
      "w3  =  0.0\n",
      "objective =  9300.0\n"
     ]
    }
   ],
   "source": [
    "from pulp import *\n",
    "\n",
    "# A new problem\n",
    "prob = LpProblem(\"example\", LpMaximize)\n",
    "\n",
    "# Variables\n",
    "x = LpVariable(\"w1\", 0, None, LpInteger)\n",
    "y = LpVariable(\"w2\", 0, None, LpInteger)\n",
    "z = LpVariable(\"w3\", 0, None, LpInteger)\n",
    "\n",
    "# Objective\n",
    "prob += 12*x + 18*y + 12*z, \"objective\"\n",
    "\n",
    "# Constraints\n",
    "prob += 1.5*x + 3*y + 4*z <= 1500, \"c1\"\n",
    "prob += 3*x + 2*y + z <= 1200, \"c2\"\n",
    "\n",
    "# Solve the problem using the default solver\n",
    "prob.solve()\n",
    "\n",
    "# Print the status of the problem\n",
    "print(\"Status:\", LpStatus[prob.status])\n",
    "\n",
    "# Print the value of the variables\n",
    "for v in prob.variables():\n",
    "\tprint(v.name, \" = \", v.varValue)\n",
    "\n",
    "# Print the value of the objective\n",
    "print(\"objective = \", value(prob.objective))\n"
   ]
  },
  {
   "cell_type": "code",
   "execution_count": null,
   "metadata": {},
   "outputs": [],
   "source": []
  }
 ],
 "metadata": {
  "kernelspec": {
   "display_name": "Python 3",
   "language": "python",
   "name": "python3"
  },
  "language_info": {
   "codemirror_mode": {
    "name": "ipython",
    "version": 3
   },
   "file_extension": ".py",
   "mimetype": "text/x-python",
   "name": "python",
   "nbconvert_exporter": "python",
   "pygments_lexer": "ipython3",
   "version": "3.7.3"
  }
 },
 "nbformat": 4,
 "nbformat_minor": 2
}
